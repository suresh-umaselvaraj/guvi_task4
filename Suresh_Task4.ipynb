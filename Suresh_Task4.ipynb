{
  "nbformat": 4,
  "nbformat_minor": 0,
  "metadata": {
    "kernelspec": {
      "display_name": "Python 3",
      "language": "python",
      "name": "python3"
    },
    "language_info": {
      "codemirror_mode": {
        "name": "ipython",
        "version": 3
      },
      "file_extension": ".py",
      "mimetype": "text/x-python",
      "name": "python",
      "nbconvert_exporter": "python",
      "pygments_lexer": "ipython3",
      "version": "3.8.8"
    },
    "colab": {
      "name": "Task 4 Assessment2B.ipynb",
      "provenance": [],
      "collapsed_sections": []
    }
  },
  "cells": [
    {
      "cell_type": "markdown",
      "metadata": {
        "id": "wLiDRJcFGLA0"
      },
      "source": [
        "###### Assessment"
      ]
    },
    {
      "cell_type": "markdown",
      "metadata": {
        "id": "LYWGRCUFGLA6"
      },
      "source": [
        "###### I am going to provide two .csv files , you are supposed to work on them and have to provide solutions to the following problems"
      ]
    },
    {
      "cell_type": "markdown",
      "metadata": {
        "id": "Wm5wXO2UGLA9"
      },
      "source": [
        "###### import necessary libraries"
      ]
    },
    {
      "cell_type": "code",
      "metadata": {
        "id": "4kM4zqlTGLA-"
      },
      "source": [
        "import pandas as pd\n",
        "import numpy as np\n",
        "import matplotlib as mat"
      ],
      "execution_count": null,
      "outputs": []
    },
    {
      "cell_type": "markdown",
      "metadata": {
        "id": "Tregqh1iGLBB"
      },
      "source": [
        "###### merge those two csv files (after getting as dataframes, get them as a single dataframe)"
      ]
    },
    {
      "cell_type": "code",
      "metadata": {
        "id": "Uiyf8Mq5GLBB"
      },
      "source": [
        "a = pd.read_csv(\"E:/Guvi Python paid/Assignment/4/Task 4/Task4/college_1.csv\",index_col=0)\n",
        "b = pd.read_csv(\"E:/Guvi Python paid/Assignment/4/Task 4/Task4/college_2.csv\",index_col=0)\n",
        "b = b.dropna(axis=1)\n",
        "a = a.dropna(axis=1)\n",
        "merged = a.merge(b, on='Department')\n",
        "merged.to_csv(\"output.csv\", index=False)\n",
        "df.to_csv(\"merge.csv\")"
      ],
      "execution_count": null,
      "outputs": []
    },
    {
      "cell_type": "code",
      "metadata": {
        "id": "CR-rhvy_GLBC"
      },
      "source": [
        "merged.info()"
      ],
      "execution_count": null,
      "outputs": []
    },
    {
      "cell_type": "code",
      "metadata": {
        "id": "IELodgwBGLBD"
      },
      "source": [
        "a = pd.read_csv(\"E:/Guvi Python paid/Assignment/4/Task 4/Task4/college_1.csv\",index_col=0)\n",
        "b = pd.read_csv(\"E:/Guvi Python paid/Assignment/4/Task 4/Task4/college_2.csv\",index_col=0)\n",
        "\n",
        "df = pd.merge(a, b, \n",
        "                   on='Name', \n",
        "                   how='outer')\n",
        "  \n",
        "# displaying result\n",
        "print(df)\n",
        "df.to_csv(\"task4outer.csv\")"
      ],
      "execution_count": null,
      "outputs": []
    },
    {
      "cell_type": "code",
      "metadata": {
        "id": "hj3NbFxuGLBE"
      },
      "source": [
        "a = pd.read_csv(\"E:/Guvi Python paid/Assignment/4/Task 4/Task4/college_1.csv\",index_col=0)\n",
        "b = pd.read_csv(\"E:/Guvi Python paid/Assignment/4/Task 4/Task4/college_2.csv\",index_col=0)\n",
        "\n",
        "df = pd.merge(a, b, \n",
        "                   on='Name', \n",
        "                   how='inner')\n",
        "  \n",
        "# displaying result\n",
        "print(df)\n",
        "df.to_csv(\"task4inner.csv\")"
      ],
      "execution_count": null,
      "outputs": []
    },
    {
      "cell_type": "code",
      "metadata": {
        "id": "Lh-GURdCGLBG"
      },
      "source": [
        "a = pd.read_csv(\"E:/Guvi Python paid/Assignment/4/Task 4/Task4/college_1.csv\",index_col=0)\n",
        "b = pd.read_csv(\"E:/Guvi Python paid/Assignment/4/Task 4/Task4/college_2.csv\",index_col=0)\n",
        "\n",
        "df = pd.merge(a, b, \n",
        "                   on='Name', \n",
        "                   how='left')\n",
        "  \n",
        "# displaying result\n",
        "print(df)\n",
        "df.to_csv(\"task4left.csv\")"
      ],
      "execution_count": null,
      "outputs": []
    },
    {
      "cell_type": "code",
      "metadata": {
        "id": "aNxAThDgGLBH"
      },
      "source": [
        "a = pd.read_csv(\"E:/Guvi Python paid/Assignment/4/Task 4/Task4/college_1.csv\",index_col=0)\n",
        "b = pd.read_csv(\"E:/Guvi Python paid/Assignment/4/Task 4/Task4/college_2.csv\",index_col=0)\n",
        "\n",
        "df = pd.merge(a, b, \n",
        "                   on='Name', \n",
        "                   how='right')\n",
        "  \n",
        "# displaying result\n",
        "print(df)\n",
        "df.to_csv(\"task4right.csv\")"
      ],
      "execution_count": null,
      "outputs": []
    },
    {
      "cell_type": "markdown",
      "metadata": {
        "id": "A06Ma1G9GLBH"
      },
      "source": [
        "###### Take each csv file , split that csv file into multiple categories (example csv files are added in the repo) \n"
      ]
    },
    {
      "cell_type": "markdown",
      "metadata": {
        "id": "NYdOrXhFGLBI"
      },
      "source": [
        "###### consider if the codekata score exceeds 15000 points(present week) then make a csv on those observations as Exceeded expectations.csv\n"
      ]
    },
    {
      "cell_type": "markdown",
      "metadata": {
        "id": "jnA_OwPOGLBI"
      },
      "source": [
        "###### if  10000<codekata score<15000   (Reached_expectations.csv)\n",
        "\n"
      ]
    },
    {
      "cell_type": "markdown",
      "metadata": {
        "id": "YZhS7kL2GLBJ"
      },
      "source": [
        "###### if  7000<codekata score<10000   (Needs_Improvement.csv)\n"
      ]
    },
    {
      "cell_type": "markdown",
      "metadata": {
        "id": "h2svZpb_GLBJ"
      },
      "source": [
        "###### if  codekate score < 7000        (Unsatisfactory.csv)"
      ]
    },
    {
      "cell_type": "code",
      "metadata": {
        "id": "SoI2SrQpGLBK",
        "outputId": "3f87c8fe-f8e0-4b36-b14f-5705a7577cf3"
      },
      "source": [
        "df = pd.read_csv(\"E:/Guvi Python paid/Assignment/4/Task 4/Task4/consolidated.csv\",index_col=0)\n",
        "df[\"CodeKata Score\"]"
      ],
      "execution_count": null,
      "outputs": [
        {
          "data": {
            "text/plain": [
              "Name\n",
              "A.Dharani        24500\n",
              "V.JEEVITHA       21740\n",
              "HEMAVATHI.R      19680\n",
              "Mugunthan S      10610\n",
              "Sathammai.S       8980\n",
              "                 ...  \n",
              "praveen raj j     2380\n",
              "AMARNATH D        1890\n",
              "bala              1720\n",
              "XY Z                 0\n",
              "Hariharan            0\n",
              "Name: CodeKata Score, Length: 119, dtype: int64"
            ]
          },
          "execution_count": 78,
          "metadata": {},
          "output_type": "execute_result"
        }
      ]
    },
    {
      "cell_type": "code",
      "metadata": {
        "id": "gf-mcmX_GLBM",
        "outputId": "d9449ecd-333f-49a8-eb18-5c4e1d060a03"
      },
      "source": [
        "df[\"CodeKata_cat\"] = pd.cut(df[\"CodeKata Score\"], \n",
        "                        bins=[0.,7000., 10000, 15000, 20000., np.inf], \n",
        "                        labels=[0,1,2,3,4])\n",
        "df[\"CodeKata_cat\"].hist()"
      ],
      "execution_count": null,
      "outputs": [
        {
          "data": {
            "text/plain": [
              "<AxesSubplot:>"
            ]
          },
          "execution_count": 81,
          "metadata": {},
          "output_type": "execute_result"
        },
        {
          "data": {
            "image/png": "[encoded data removed]",
            "text/plain": [
              "<Figure size 432x288 with 1 Axes>"
            ]
          },
          "metadata": {
            "needs_background": "light"
          },
          "output_type": "display_data"
        }
      ]
    },
    {
      "cell_type": "markdown",
      "metadata": {
        "id": "GEG28DjBGLBN"
      },
      "source": [
        "###### Average of previous week geekions vs this week geekions (i.e Previous Geekions vs CodeKata Score)"
      ]
    },
    {
      "cell_type": "code",
      "metadata": {
        "id": "ZUVNLBK_GLBN",
        "outputId": "e88d0e30-6575-4b48-be65-3d056bf62b13"
      },
      "source": [
        "df.describe()"
      ],
      "execution_count": null,
      "outputs": [
        {
          "data": {
            "text/html": [
              "<div>\n",
              "<style scoped>\n",
              "    .dataframe tbody tr th:only-of-type {\n",
              "        vertical-align: middle;\n",
              "    }\n",
              "\n",
              "    .dataframe tbody tr th {\n",
              "        vertical-align: top;\n",
              "    }\n",
              "\n",
              "    .dataframe thead th {\n",
              "        text-align: right;\n",
              "    }\n",
              "</style>\n",
              "<table border=\"1\" class=\"dataframe\">\n",
              "  <thead>\n",
              "    <tr style=\"text-align: right;\">\n",
              "      <th></th>\n",
              "      <th>python</th>\n",
              "      <th>python_en</th>\n",
              "      <th>mysql</th>\n",
              "      <th>computational_thinking</th>\n",
              "      <th>Previous Geekions</th>\n",
              "      <th>CodeKata Score</th>\n",
              "      <th>Rising</th>\n",
              "    </tr>\n",
              "  </thead>\n",
              "  <tbody>\n",
              "    <tr>\n",
              "      <th>count</th>\n",
              "      <td>119.000000</td>\n",
              "      <td>35.000000</td>\n",
              "      <td>119.000000</td>\n",
              "      <td>35.000000</td>\n",
              "      <td>119.000000</td>\n",
              "      <td>119.000000</td>\n",
              "      <td>119.000000</td>\n",
              "    </tr>\n",
              "    <tr>\n",
              "      <th>mean</th>\n",
              "      <td>54.352941</td>\n",
              "      <td>29.657143</td>\n",
              "      <td>23.500000</td>\n",
              "      <td>2.200000</td>\n",
              "      <td>3842.352941</td>\n",
              "      <td>4051.764706</td>\n",
              "      <td>209.411765</td>\n",
              "    </tr>\n",
              "    <tr>\n",
              "      <th>std</th>\n",
              "      <td>44.272526</td>\n",
              "      <td>30.582524</td>\n",
              "      <td>33.276671</td>\n",
              "      <td>7.015948</td>\n",
              "      <td>4406.339992</td>\n",
              "      <td>4551.951881</td>\n",
              "      <td>553.445746</td>\n",
              "    </tr>\n",
              "    <tr>\n",
              "      <th>min</th>\n",
              "      <td>-1.000000</td>\n",
              "      <td>-1.000000</td>\n",
              "      <td>-1.000000</td>\n",
              "      <td>-1.000000</td>\n",
              "      <td>0.000000</td>\n",
              "      <td>0.000000</td>\n",
              "      <td>0.000000</td>\n",
              "    </tr>\n",
              "    <tr>\n",
              "      <th>25%</th>\n",
              "      <td>0.000000</td>\n",
              "      <td>0.000000</td>\n",
              "      <td>0.000000</td>\n",
              "      <td>0.000000</td>\n",
              "      <td>740.000000</td>\n",
              "      <td>740.000000</td>\n",
              "      <td>0.000000</td>\n",
              "    </tr>\n",
              "    <tr>\n",
              "      <th>50%</th>\n",
              "      <td>82.000000</td>\n",
              "      <td>20.000000</td>\n",
              "      <td>4.000000</td>\n",
              "      <td>0.000000</td>\n",
              "      <td>2410.000000</td>\n",
              "      <td>2410.000000</td>\n",
              "      <td>0.000000</td>\n",
              "    </tr>\n",
              "    <tr>\n",
              "      <th>75%</th>\n",
              "      <td>100.000000</td>\n",
              "      <td>52.000000</td>\n",
              "      <td>33.000000</td>\n",
              "      <td>0.000000</td>\n",
              "      <td>5340.000000</td>\n",
              "      <td>5975.000000</td>\n",
              "      <td>0.000000</td>\n",
              "    </tr>\n",
              "    <tr>\n",
              "      <th>max</th>\n",
              "      <td>100.000000</td>\n",
              "      <td>100.000000</td>\n",
              "      <td>100.000000</td>\n",
              "      <td>39.000000</td>\n",
              "      <td>24500.000000</td>\n",
              "      <td>24500.000000</td>\n",
              "      <td>3140.000000</td>\n",
              "    </tr>\n",
              "  </tbody>\n",
              "</table>\n",
              "</div>"
            ],
            "text/plain": [
              "           python   python_en       mysql  computational_thinking  \\\n",
              "count  119.000000   35.000000  119.000000               35.000000   \n",
              "mean    54.352941   29.657143   23.500000                2.200000   \n",
              "std     44.272526   30.582524   33.276671                7.015948   \n",
              "min     -1.000000   -1.000000   -1.000000               -1.000000   \n",
              "25%      0.000000    0.000000    0.000000                0.000000   \n",
              "50%     82.000000   20.000000    4.000000                0.000000   \n",
              "75%    100.000000   52.000000   33.000000                0.000000   \n",
              "max    100.000000  100.000000  100.000000               39.000000   \n",
              "\n",
              "       Previous Geekions  CodeKata Score       Rising  \n",
              "count         119.000000      119.000000   119.000000  \n",
              "mean         3842.352941     4051.764706   209.411765  \n",
              "std          4406.339992     4551.951881   553.445746  \n",
              "min             0.000000        0.000000     0.000000  \n",
              "25%           740.000000      740.000000     0.000000  \n",
              "50%          2410.000000     2410.000000     0.000000  \n",
              "75%          5340.000000     5975.000000     0.000000  \n",
              "max         24500.000000    24500.000000  3140.000000  "
            ]
          },
          "execution_count": 82,
          "metadata": {},
          "output_type": "execute_result"
        }
      ]
    },
    {
      "cell_type": "markdown",
      "metadata": {
        "id": "6lw5PYQbGLBO"
      },
      "source": [
        "###### No of students participated "
      ]
    },
    {
      "cell_type": "code",
      "metadata": {
        "id": "yu8uQrmUGLBO",
        "outputId": "d74bb5fa-6d27-478f-f061-60daccca3b12"
      },
      "source": [
        "df = pd.read_csv(\"E:/Guvi Python paid/Assignment/4/Task 4/Task4/consolidated.csv\")\n",
        "Count_students = df.count()\n",
        "Count_students"
      ],
      "execution_count": null,
      "outputs": [
        {
          "data": {
            "text/plain": [
              "Name                      119\n",
              "python                    119\n",
              "python_en                  35\n",
              "mysql                     119\n",
              "computational_thinking     35\n",
              "Previous Geekions         119\n",
              "CodeKata Score            119\n",
              "Department                119\n",
              "Rising                    119\n",
              "dtype: int64"
            ]
          },
          "execution_count": 17,
          "metadata": {},
          "output_type": "execute_result"
        }
      ]
    },
    {
      "cell_type": "markdown",
      "metadata": {
        "id": "Yli9-Ir1GLBP"
      },
      "source": [
        "###### #Average completion of python course or my_sql or python english or computational thinking"
      ]
    },
    {
      "cell_type": "code",
      "metadata": {
        "id": "pVvugz40GLBP",
        "outputId": "e39ebd43-d225-4326-9c9f-4138a4b6f3a3"
      },
      "source": [
        "df = pd.read_csv(\"E:/Guvi Python paid/Assignment/4/Task 4/Task4/consolidated.csv\")\n",
        "mean_df = df.mean()\n",
        "print(mean_df)"
      ],
      "execution_count": null,
      "outputs": [
        {
          "name": "stdout",
          "output_type": "stream",
          "text": [
            "python                      54.352941\n",
            "python_en                   29.657143\n",
            "mysql                       23.500000\n",
            "computational_thinking       2.200000\n",
            "Previous Geekions         3842.352941\n",
            "CodeKata Score            4051.764706\n",
            "Rising                     209.411765\n",
            "dtype: float64\n"
          ]
        }
      ]
    },
    {
      "cell_type": "markdown",
      "metadata": {
        "id": "2Gl_jJRLGLBQ"
      },
      "source": [
        "###### rising star of the week (top 3 candidate who performed well in that particular week)"
      ]
    },
    {
      "cell_type": "code",
      "metadata": {
        "id": "FwUh1EawGLBQ",
        "outputId": "c4b4a52e-3d6b-4e18-d779-ae7a3758655f"
      },
      "source": [
        "df = pd.read_csv(\"E:/Guvi Python paid/Assignment/4/Task 4/Task4/consolidated.csv\",index_col=1)\n",
        "df['Rising'].nlargest(n=3)"
      ],
      "execution_count": null,
      "outputs": [
        {
          "data": {
            "text/plain": [
              "python\n",
              " 58.0    3140\n",
              "-1.0     2000\n",
              "-1.0     2000\n",
              "Name: Rising, dtype: int64"
            ]
          },
          "execution_count": 19,
          "metadata": {},
          "output_type": "execute_result"
        }
      ]
    },
    {
      "cell_type": "markdown",
      "metadata": {
        "id": "vzxrzegnGLBQ"
      },
      "source": [
        "###### Shining stars of the week (top 3 candidates who has highest geekions)"
      ]
    },
    {
      "cell_type": "code",
      "metadata": {
        "id": "-o6VjSVPGLBQ",
        "outputId": "af55e649-a591-48c7-ba1a-3cc864ccf522"
      },
      "source": [
        "df = pd.read_csv(\"E:/Guvi Python paid/Assignment/4/Task 4/Task4/consolidated.csv\",index_col=1)\n",
        "df['Previous Geekions'].nlargest(n=3)"
      ],
      "execution_count": null,
      "outputs": [
        {
          "data": {
            "text/plain": [
              "python\n",
              "82.0     24500\n",
              "82.0     21740\n",
              "100.0    19680\n",
              "Name: Previous Geekions, dtype: int64"
            ]
          },
          "execution_count": 20,
          "metadata": {},
          "output_type": "execute_result"
        }
      ]
    },
    {
      "cell_type": "markdown",
      "metadata": {
        "id": "hXxca8b3GLBR"
      },
      "source": [
        "###### Department wise codekata performence (pie chart)"
      ]
    },
    {
      "cell_type": "code",
      "metadata": {
        "id": "SeAyO3NdGLBR",
        "outputId": "16298632-afbc-4902-ee69-b90264b3b733"
      },
      "source": [
        "import matplotlib.pyplot as plt\n",
        "import numpy as np\n",
        "df = pd.read_csv(\"E:/Guvi Python paid/Assignment/4/Task 4/Task4/consolidated.csv\",index_col=0)\n",
        "df[\"CodeKata Score\"]\n",
        "\n",
        "\n",
        "y = np.array(df[\"CodeKata Score\"])\n",
        "mylabels = df[\"CodeKata Score\"]\n",
        "plt.legend(title = \"Codekata Performance:\")\n",
        "plt.pie(y,labels=mylabels)\n",
        "fig = plt.figure(figsize =(10, 7))\n",
        "plt.show() "
      ],
      "execution_count": null,
      "outputs": [
        {
          "name": "stderr",
          "output_type": "stream",
          "text": [
            "No handles with labels found to put in legend.\n"
          ]
        },
        {
          "data": {
            "image/png": "[encoded data removed]",
            "text/plain": [
              "<Figure size 432x288 with 1 Axes>"
            ]
          },
          "metadata": {},
          "output_type": "display_data"
        },
        {
          "data": {
            "text/plain": [
              "<Figure size 720x504 with 0 Axes>"
            ]
          },
          "metadata": {},
          "output_type": "display_data"
        }
      ]
    },
    {
      "cell_type": "markdown",
      "metadata": {
        "id": "13HVT22sGLBR"
      },
      "source": [
        "###### Department wise toppers (horizantal bar graph or any visual representations of your choice)"
      ]
    },
    {
      "cell_type": "code",
      "metadata": {
        "id": "2id0Mg-EGLBR"
      },
      "source": [
        "import matplotlib.pyplot as pl\n"
      ],
      "execution_count": null,
      "outputs": []
    },
    {
      "cell_type": "code",
      "metadata": {
        "id": "do0XGoQzGLBS"
      },
      "source": [
        ""
      ],
      "execution_count": null,
      "outputs": []
    },
    {
      "cell_type": "code",
      "metadata": {
        "id": "F2gntPx8GLBS"
      },
      "source": [
        ""
      ],
      "execution_count": null,
      "outputs": []
    },
    {
      "cell_type": "code",
      "metadata": {
        "id": "P4lYDns7GLBS"
      },
      "source": [
        ""
      ],
      "execution_count": null,
      "outputs": []
    }
  ]
}